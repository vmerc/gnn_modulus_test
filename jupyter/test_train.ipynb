{
 "cells": [
  {
   "cell_type": "code",
   "execution_count": 1,
   "id": "51b7e6c6",
   "metadata": {},
   "outputs": [],
   "source": [
    "import numpy as np \n",
    "import matplotlib.pyplot as plt \n",
    "import os \n",
    "\n",
    "os.chdir('../')\n",
    "#os.chdir('../')\n",
    "\n",
    "from python.create_dgl_dataset import TelemacDataset\n",
    "from python.python_code.data_manip.extraction.telemac_file import TelemacFile\n",
    "from python.CustomMeshGraphNet import MeshGraphNet\n",
    "\n",
    "import torch\n",
    "from dgl.dataloading import GraphDataLoader\n",
    "from torch.cuda.amp import autocast, GradScaler\n",
    "from torch.nn.parallel import DistributedDataParallel\n",
    "import time, os\n",
    "import wandb as wb\n",
    "import dgl"
   ]
  },
  {
   "cell_type": "code",
   "execution_count": 2,
   "id": "7c378fe4",
   "metadata": {},
   "outputs": [],
   "source": [
    "try:\n",
    "    import apex\n",
    "except:\n",
    "    pass\n",
    "\n",
    "#from modulus.models.meshgraphnet import MeshGraphNet\n",
    "from modulus.distributed.manager import DistributedManager\n",
    "\n",
    "from modulus.launch.logging import (\n",
    "    PythonLogger,\n",
    "    initialize_wandb,\n",
    "    RankZeroLoggingWrapper,\n",
    ")\n",
    "from modulus.launch.utils import load_checkpoint, save_checkpoint\n",
    "from python.constants import Constants"
   ]
  },
  {
   "cell_type": "code",
   "execution_count": 3,
   "id": "b1576a1b",
   "metadata": {},
   "outputs": [
    {
     "name": "stdout",
     "output_type": "stream",
     "text": [
      "1\n",
      "55887\n",
      "gpu-nc05\n",
      "0\n",
      "0\n"
     ]
    }
   ],
   "source": [
    "print(os.environ['WORLD_SIZE'])\n",
    "print(os.environ['MASTER_PORT'])\n",
    "print(os.environ['MASTER_ADDR'])\n",
    "print(os.environ['RANK'])\n",
    "print(os.environ['LOCAL_RANK'])"
   ]
  },
  {
   "cell_type": "code",
   "execution_count": null,
   "id": "905c1918",
   "metadata": {},
   "outputs": [],
   "source": [
    "print(os.environ['WORLD_SIZE'])"
   ]
  },
  {
   "cell_type": "code",
   "execution_count": null,
   "id": "88c24a8d",
   "metadata": {},
   "outputs": [],
   "source": [
    "DistributedManager.initialize()\n",
    "dist = DistributedManager()\n",
    "print(dist.rank)\n",
    "print(dist.local_rank)\n",
    "print(dist.world_size)\n",
    "print(dist.device)"
   ]
  },
  {
   "cell_type": "raw",
   "id": "f6f072e2",
   "metadata": {},
   "source": [
    "print(int(os.environ.get(\"WORLD_SIZE\")))\n",
    "DistributedManager.initialize()\n",
    "dist = DistributedManager()\n",
    "print(dist.world_size)\n",
    "print(int(os.environ.get(\"WORLD_SIZE\")))"
   ]
  },
  {
   "cell_type": "code",
   "execution_count": 3,
   "id": "dbdc58e9",
   "metadata": {},
   "outputs": [],
   "source": [
    "# Instantiate constants\n",
    "C = Constants()"
   ]
  },
  {
   "cell_type": "code",
   "execution_count": 4,
   "id": "5452b7d9",
   "metadata": {},
   "outputs": [
    {
     "name": "stdout",
     "output_type": "stream",
     "text": [
      "{'h': tensor([0.0332]), 'u': tensor([-0.0002]), 'v': tensor([0.0405]), 'strickler': tensor([16.2530]), 'z': tensor([-0.5487]), 'delta_h': tensor([0.0005]), 'delta_u': tensor([-1.2126e-05]), 'delta_v': tensor([0.0007]), 'h_std': tensor([0.1278]), 'u_std': tensor([0.0324]), 'v_std': tensor([0.1857]), 'strickler_std': tensor([7.2366]), 'z_std': tensor([0.8599]), 'delta_h_std': tensor([0.0081]), 'delta_u_std': tensor([0.0161]), 'delta_v_std': tensor([0.0322])}\n"
     ]
    }
   ],
   "source": [
    "dataset = TelemacDataset(\n",
    "            name=\"telemac_train\",\n",
    "            data_dir=C.data_dir,\n",
    "            split=\"train\",\n",
    "            num_samples=C.num_training_samples,\n",
    "            num_steps=C.num_training_time_steps,\n",
    "        )\n",
    "#dataset._get_node_stats()"
   ]
  },
  {
   "cell_type": "code",
   "execution_count": 5,
   "id": "c2563452",
   "metadata": {},
   "outputs": [],
   "source": [
    "\n",
    "class MGNTrainer:\n",
    "    def __init__(self, wb, dist):#, rank_zero_logger):\n",
    "        self.dist = dist\n",
    "        print(os.getcwd())\n",
    "        # instantiate dataset\n",
    "\n",
    "        dataset = TelemacDataset(\n",
    "            name=\"telemac_train\",\n",
    "            data_dir=C.data_dir,\n",
    "            split=\"train\",\n",
    "            num_samples=C.num_training_samples,\n",
    "            num_steps=C.num_training_time_steps,\n",
    "        )\n",
    "\n",
    "        # instantiate dataloader\n",
    "        self.dataloader = GraphDataLoader(\n",
    "            dataset,\n",
    "            batch_size=C.batch_size,\n",
    "            shuffle=False,\n",
    "            drop_last=False,\n",
    "            pin_memory=True,\n",
    "            use_ddp=dist.world_size > 1,\n",
    "        )\n",
    "\n",
    "        # instantiate the model\n",
    "        self.model = MeshGraphNet(\n",
    "            C.num_input_features, C.num_edge_features, C.num_output_features,processor_size=4,hidden_dim_processor=64,hidden_dim_node_encoder=64,hidden_dim_edge_encoder=64,hidden_dim_node_decoder=64,do_concat_trick=True\n",
    "        )\n",
    "        if C.jit:\n",
    "            self.model = torch.jit.script(self.model).to(dist.device)\n",
    "        else:\n",
    "            self.model = self.model.to(dist.device)\n",
    "        if C.watch_model and not C.jit and dist.rank == 0:\n",
    "            wb.watch(self.model)\n",
    "\n",
    "        # distributed data parallel for multi-node training\n",
    "        if dist.world_size > 1:\n",
    "            self.model = DistributedDataParallel(\n",
    "                self.model,\n",
    "                device_ids=[dist.local_rank],\n",
    "                output_device=dist.device,\n",
    "                broadcast_buffers=dist.broadcast_buffers,\n",
    "                find_unused_parameters=dist.find_unused_parameters,\n",
    "            )\n",
    "\n",
    "        # enable train mode\n",
    "        self.model.train()\n",
    "\n",
    "        # instantiate loss, optimizer, and scheduler\n",
    "        self.criterion = torch.nn.MSELoss()\n",
    "        try:\n",
    "            self.optimizer = apex.optimizers.FusedAdam(self.model.parameters(), lr=C.lr)\n",
    "            #rank_zero_logger.info(\"Using FusedAdam optimizer\")\n",
    "        except:\n",
    "            self.optimizer = torch.optim.Adam(self.model.parameters(), lr=C.lr)\n",
    "        self.scheduler = torch.optim.lr_scheduler.LambdaLR(\n",
    "            self.optimizer, lr_lambda=lambda epoch: C.lr_decay_rate**epoch\n",
    "        )\n",
    "        self.scaler = GradScaler()\n",
    "\n",
    "        #load checkpoint\n",
    "        if dist.world_size > 1:\n",
    "            torch.distributed.barrier()\n",
    "            self.epoch_init = load_checkpoint(\n",
    "            os.path.join(C.ckpt_path, C.ckpt_name),\n",
    "            models=self.model,\n",
    "            optimizer=self.optimizer,\n",
    "            scheduler=self.scheduler,\n",
    "            scaler=self.scaler,\n",
    "            device=dist.device,\n",
    "        )\n",
    "        self.epoch_init=0\n",
    "\n",
    "    def train(self, graph):\n",
    "        graph = graph.to(self.dist.device)\n",
    "        self.optimizer.zero_grad()\n",
    "        loss = self.forward(graph)\n",
    "        self.backward(loss)\n",
    "        self.scheduler.step()\n",
    "        return loss\n",
    "\n",
    "    def forward(self, graph):\n",
    "        # forward pass\n",
    "        with autocast(enabled=C.amp):\n",
    "            pred = self.model(graph.ndata[\"x\"], graph.edata[\"x\"], graph)\n",
    "            loss = self.criterion(pred, graph.ndata[\"y\"])\n",
    "            return loss\n",
    "\n",
    "    def backward(self, loss):\n",
    "        # backward pass\n",
    "        if C.amp:\n",
    "            self.scaler.scale(loss).backward()\n",
    "            self.scaler.step(self.optimizer)\n",
    "            self.scaler.update()\n",
    "        else:\n",
    "            loss.backward()\n",
    "            self.optimizer.step()"
   ]
  },
  {
   "cell_type": "code",
   "execution_count": 6,
   "id": "4eefd035",
   "metadata": {},
   "outputs": [
    {
     "name": "stdout",
     "output_type": "stream",
     "text": [
      "1\n",
      "/users/daml/vmercier\n",
      "{'h': tensor([0.0332]), 'u': tensor([-0.0002]), 'v': tensor([0.0405]), 'strickler': tensor([16.2530]), 'z': tensor([-0.5487]), 'delta_h': tensor([0.0005]), 'delta_u': tensor([-1.2126e-05]), 'delta_v': tensor([0.0007]), 'h_std': tensor([0.1278]), 'u_std': tensor([0.0324]), 'v_std': tensor([0.1857]), 'strickler_std': tensor([7.2366]), 'z_std': tensor([0.8599]), 'delta_h_std': tensor([0.0081]), 'delta_u_std': tensor([0.0161]), 'delta_v_std': tensor([0.0322])}\n",
      "epoch: 0, loss:  1.073e-01, time per epoch:  8.046e+00\n",
      "epoch: 10, loss:  9.767e-02, time per epoch:  4.244e+00\n",
      "epoch: 20, loss:  9.745e-02, time per epoch:  4.318e+00\n",
      "epoch: 30, loss:  9.553e-02, time per epoch:  4.345e+00\n",
      "epoch: 40, loss:  9.460e-02, time per epoch:  4.304e+00\n",
      "global time per epoch:  4.385e+00\n"
     ]
    }
   ],
   "source": [
    "loss_list = []\n",
    "if __name__ == \"__main__\":\n",
    "    # initialize distributed manager\n",
    "    DistributedManager.initialize()\n",
    "    dist = DistributedManager()\n",
    "    print(dist.world_size)\n",
    "\n",
    "    # save constants to JSON file\n",
    "    if dist.rank == 0:\n",
    "        os.makedirs(C.ckpt_path, exist_ok=True)\n",
    "        with open(\n",
    "            os.path.join(C.ckpt_path, C.ckpt_name.replace(\".pt\", \".json\")), \"w\"\n",
    "        ) as json_file:\n",
    "            json_file.write(C.json(indent=4))\n",
    "\n",
    "\n",
    "\n",
    "    trainer = MGNTrainer(wb, dist)#, rank_zero_logger)\n",
    "    start = time.time()\n",
    "    global_start = time.time()\n",
    "    for epoch in range(trainer.epoch_init, C.epochs):\n",
    "        global_loss = 0\n",
    "        for graph in trainer.dataloader:\n",
    "            loss = trainer.train(graph)\n",
    "            global_loss += loss.detach().cpu().item()\n",
    "        global_loss = global_loss/trainer.dataloader.dataset.length\n",
    "        \n",
    "        if epoch%10 ==0 :\n",
    "            print(\n",
    "                f\"epoch: {epoch}, loss: {global_loss:10.3e}, time per epoch: {(time.time()-start):10.3e}\"\n",
    "            )\n",
    "        loss_list.append(global_loss)\n",
    "        \n",
    "        # save checkpoint\n",
    "        if dist.world_size > 1:\n",
    "            torch.distributed.barrier()\n",
    "        #if dist.rank == 0:\n",
    "        #    save_checkpoint(\n",
    "        #        os.path.join(C.ckpt_path, C.ckpt_name),\n",
    "        #        models=trainer.model,\n",
    "        #        optimizer=trainer.optimizer,\n",
    "        #        scheduler=trainer.scheduler,\n",
    "        #        scaler=trainer.scaler,\n",
    "        #        epoch=epoch,\n",
    "        #    )\n",
    "        start = time.time()\n",
    "    \n",
    "    print(\n",
    "            f\"global time per epoch: {(time.time()-global_start)/C.epochs:10.3e}\"\n",
    "        )"
   ]
  },
  {
   "cell_type": "code",
   "execution_count": 7,
   "id": "2a163f73",
   "metadata": {},
   "outputs": [
    {
     "data": {
      "text/plain": [
       "[<matplotlib.lines.Line2D at 0x7ff50c9775e0>]"
      ]
     },
     "execution_count": 7,
     "metadata": {},
     "output_type": "execute_result"
    },
    {
     "data": {
      "image/png": "[encoded data removed]",
      "text/plain": [
       "<Figure size 640x480 with 1 Axes>"
      ]
     },
     "metadata": {},
     "output_type": "display_data"
    }
   ],
   "source": [
    "plt.yscale('log')\n",
    "plt.plot(loss_list)"
   ]
  },
  {
   "cell_type": "code",
   "execution_count": 8,
   "id": "ae561e8c",
   "metadata": {},
   "outputs": [],
   "source": [
    "#import pickle\n",
    "#with open(C.ckpt_path+'/losslist', \"wb\") as fp:   #Pickling\n",
    "#    pickle.dump(loss_list, fp)\n",
    "\n",
    "#plt.yscale('log')\n",
    "#plt.plot(loss_list)\n"
   ]
  },
  {
   "cell_type": "code",
   "execution_count": 9,
   "id": "c6d27534",
   "metadata": {},
   "outputs": [],
   "source": [
    "#dataset = TelemacDataset(\n",
    "#            name=\"telemac_train\",\n",
    "#            data_dir=C.data_dir,\n",
    "#            split=\"train\",\n",
    "#            num_samples=C.num_training_samples,\n",
    "#            num_steps=C.num_training_time_steps,\n",
    "#        )\n",
    "ts =1\n",
    "var = 0"
   ]
  },
  {
   "cell_type": "code",
   "execution_count": 10,
   "id": "aedeb8ec",
   "metadata": {},
   "outputs": [],
   "source": [
    "results = trainer.model(dataset[ts].ndata[\"x\"].to(dist.device), dataset[ts].edata[\"x\"].to(dist.device), dataset[ts].to(dist.device)).detach().to('cpu').numpy()"
   ]
  },
  {
   "cell_type": "code",
   "execution_count": 11,
   "id": "7239106c",
   "metadata": {},
   "outputs": [],
   "source": [
    "test = dataset[ts].ndata[\"y\"].detach().numpy()"
   ]
  },
  {
   "cell_type": "code",
   "execution_count": 12,
   "id": "97437627",
   "metadata": {},
   "outputs": [
    {
     "name": "stdout",
     "output_type": "stream",
     "text": [
      "Warning: Using SerafinFile. It is recommended to compile Hermes api\n"
     ]
    },
    {
     "ename": "TelemacException",
     "evalue": "Could not find ./vmercier/telemac_bdd_process/data/simulations/toy_test_case/maillage.slf",
     "output_type": "error",
     "traceback": [
      "\u001b[0;31m---------------------------------------------------------------------------\u001b[0m",
      "\u001b[0;31mTelemacException\u001b[0m                          Traceback (most recent call last)",
      "Cell \u001b[0;32mIn[12], line 3\u001b[0m\n\u001b[1;32m      1\u001b[0m \u001b[38;5;28;01mfrom\u001b[39;00m \u001b[38;5;21;01mpython\u001b[39;00m\u001b[38;5;21;01m.\u001b[39;00m\u001b[38;5;21;01mcreate_dgl_dataset\u001b[39;00m \u001b[38;5;28;01mimport\u001b[39;00m add_mesh_info\n\u001b[1;32m      2\u001b[0m mesh_list \u001b[38;5;241m=\u001b[39m [\u001b[38;5;124m'\u001b[39m\u001b[38;5;124m./vmercier/telemac_bdd_process/data/simulations/toy_test_case/maillage.slf\u001b[39m\u001b[38;5;124m'\u001b[39m]\n\u001b[0;32m----> 3\u001b[0m res_mesh \u001b[38;5;241m=\u001b[39m \u001b[43mTelemacFile\u001b[49m\u001b[43m(\u001b[49m\u001b[43mmesh_list\u001b[49m\u001b[43m[\u001b[49m\u001b[38;5;241;43m0\u001b[39;49m\u001b[43m]\u001b[49m\u001b[43m)\u001b[49m\n\u001b[1;32m      4\u001b[0m X,triangles \u001b[38;5;241m=\u001b[39m add_mesh_info(res_mesh)\n",
      "File \u001b[0;32m~/gnn_modulus_project/python/python_code/data_manip/extraction/telemac_file.py:68\u001b[0m, in \u001b[0;36mTelemacFile.__init__\u001b[0;34m(self, file_name, bnd_file, log_lvl, fformat, access)\u001b[0m\n\u001b[1;32m     64\u001b[0m     \u001b[38;5;28;01mif\u001b[39;00m fformat \u001b[38;5;129;01mnot\u001b[39;00m \u001b[38;5;129;01min\u001b[39;00m [\u001b[38;5;124m'\u001b[39m\u001b[38;5;124mSERAFIN\u001b[39m\u001b[38;5;124m'\u001b[39m, \u001b[38;5;124m'\u001b[39m\u001b[38;5;124mSERAFIND\u001b[39m\u001b[38;5;124m'\u001b[39m]:\n\u001b[1;32m     65\u001b[0m         \u001b[38;5;28;01mraise\u001b[39;00m TelemacException(\n\u001b[1;32m     66\u001b[0m             \u001b[38;5;124m\"\u001b[39m\u001b[38;5;132;01m{}\u001b[39;00m\u001b[38;5;124m format is not available compile hermes to use it\u001b[39m\u001b[38;5;124m\"\u001b[39m\\\n\u001b[1;32m     67\u001b[0m             \u001b[38;5;241m.\u001b[39mformat(fformat))\n\u001b[0;32m---> 68\u001b[0m     \u001b[43mSerafinFile\u001b[49m\u001b[38;5;241;43m.\u001b[39;49m\u001b[38;5;21;43m__init__\u001b[39;49m\u001b[43m(\u001b[49m\u001b[38;5;28;43mself\u001b[39;49m\u001b[43m,\u001b[49m\n\u001b[1;32m     69\u001b[0m \u001b[43m                         \u001b[49m\u001b[43mfile_name\u001b[49m\u001b[43m,\u001b[49m\n\u001b[1;32m     70\u001b[0m \u001b[43m                         \u001b[49m\u001b[43mfformat\u001b[49m\u001b[43m,\u001b[49m\n\u001b[1;32m     71\u001b[0m \u001b[43m                         \u001b[49m\u001b[43mboundary_file\u001b[49m\u001b[38;5;241;43m=\u001b[39;49m\u001b[43mbnd_file\u001b[49m\u001b[43m,\u001b[49m\n\u001b[1;32m     72\u001b[0m \u001b[43m                         \u001b[49m\u001b[43maccess\u001b[49m\u001b[38;5;241;43m=\u001b[39;49m\u001b[43maccess\u001b[49m\u001b[43m,\u001b[49m\n\u001b[1;32m     73\u001b[0m \u001b[43m                         \u001b[49m\u001b[43mlog_lvl\u001b[49m\u001b[38;5;241;43m=\u001b[39;49m\u001b[43mlog_lvl\u001b[49m\u001b[43m)\u001b[49m\n\u001b[1;32m     75\u001b[0m \u001b[38;5;28mself\u001b[39m\u001b[38;5;241m.\u001b[39minterp_method \u001b[38;5;241m=\u001b[39m \u001b[38;5;124m\"\u001b[39m\u001b[38;5;124mmatplotlib.LinearTri\u001b[39m\u001b[38;5;124m\"\u001b[39m\n\u001b[1;32m     76\u001b[0m \u001b[38;5;28mself\u001b[39m\u001b[38;5;241m.\u001b[39m_endian \u001b[38;5;241m=\u001b[39m \u001b[38;5;28;01mNone\u001b[39;00m\n",
      "File \u001b[0;32m~/gnn_modulus_project/python/python_code/data_manip/formats/serafin_file.py:56\u001b[0m, in \u001b[0;36mSerafinFile.__init__\u001b[0;34m(self, file_name, fformat, boundary_file, access, log_lvl)\u001b[0m\n\u001b[1;32m     54\u001b[0m \u001b[38;5;28;01mif\u001b[39;00m \u001b[38;5;124m'\u001b[39m\u001b[38;5;124mr\u001b[39m\u001b[38;5;124m'\u001b[39m \u001b[38;5;129;01min\u001b[39;00m access:\n\u001b[1;32m     55\u001b[0m     \u001b[38;5;28;01mif\u001b[39;00m \u001b[38;5;129;01mnot\u001b[39;00m path\u001b[38;5;241m.\u001b[39mexists(\u001b[38;5;28mself\u001b[39m\u001b[38;5;241m.\u001b[39mfile_name):\n\u001b[0;32m---> 56\u001b[0m         \u001b[38;5;28;01mraise\u001b[39;00m TelemacException(\n\u001b[1;32m     57\u001b[0m             \u001b[38;5;124m\"\u001b[39m\u001b[38;5;124mCould not find \u001b[39m\u001b[38;5;132;01m{}\u001b[39;00m\u001b[38;5;124m\"\u001b[39m\u001b[38;5;241m.\u001b[39mformat(\u001b[38;5;28mself\u001b[39m\u001b[38;5;241m.\u001b[39mfile_name))\n\u001b[1;32m     58\u001b[0m \u001b[38;5;28;01melif\u001b[39;00m access \u001b[38;5;241m==\u001b[39m \u001b[38;5;124m'\u001b[39m\u001b[38;5;124mw\u001b[39m\u001b[38;5;124m'\u001b[39m:\n\u001b[1;32m     59\u001b[0m     \u001b[38;5;28;01mif\u001b[39;00m path\u001b[38;5;241m.\u001b[39mexists(\u001b[38;5;28mself\u001b[39m\u001b[38;5;241m.\u001b[39mfile_name):\n",
      "\u001b[0;31mTelemacException\u001b[0m: Could not find ./vmercier/telemac_bdd_process/data/simulations/toy_test_case/maillage.slf"
     ]
    }
   ],
   "source": [
    "from python.create_dgl_dataset import add_mesh_info\n",
    "mesh_list = ['./vmercier/telemac_bdd_process/data/simulations/toy_test_case/maillage.slf']\n",
    "res_mesh = TelemacFile(mesh_list[0])\n",
    "X,triangles = add_mesh_info(res_mesh)"
   ]
  },
  {
   "cell_type": "code",
   "execution_count": null,
   "id": "04de4ad3",
   "metadata": {},
   "outputs": [],
   "source": [
    "test = dataset[ts].ndata[\"y\"].detach().numpy()\n",
    "\n",
    "vmin = min(np.min(results[:,var]),np.min(test[:,var]))\n",
    "vmax = min(np.max(results[:,var]),np.max(test[:,var]))\n",
    "\n",
    "fig, ax = plt.subplots(2,1, figsize=(8, 10))\n",
    "ax[0].tripcolor(X[:,0],X[:,1],results[:,var],triangles=triangles,vmin=vmin,vmax=vmax)\n",
    "ax[1].tripcolor(X[:,0],X[:,1],test[:,var],triangles=triangles,vmin=vmin,vmax=vmax)\n",
    "plt.show()"
   ]
  },
  {
   "cell_type": "code",
   "execution_count": null,
   "id": "bed4019c",
   "metadata": {},
   "outputs": [],
   "source": [
    "print(np.max(results[:,var]))\n",
    "print(np.max(test[:,var]))\n",
    "\n",
    "print(np.min(results[:,var]))\n",
    "print(np.min(test[:,var]))"
   ]
  },
  {
   "cell_type": "code",
   "execution_count": null,
   "id": "c061d490",
   "metadata": {},
   "outputs": [],
   "source": [
    "fig, ax = plt.subplots(1,1, figsize=(8, 10))\n",
    "clp = ax.tripcolor(X[:,0],X[:,1],np.abs(results[:,0]-test[:,0]),triangles=triangles,vmin=vmin,vmax=vmax)\n",
    "fig.colorbar(clp)\n",
    "plt.show()\n",
    "arraytest = np.abs((results[:,0]-test[:,0]))\n",
    "y = np.sort(arraytest) # sort array\n",
    "y = y[::-1] # reverse sort order\n",
    "print(y[0:400])"
   ]
  },
  {
   "cell_type": "code",
   "execution_count": null,
   "id": "448670aa",
   "metadata": {},
   "outputs": [],
   "source": [
    "prevision_1_step = np.zeros((720,dataset[ts].ndata[\"x\"].shape[0]))\n",
    "groundtruth = np.zeros((720,dataset[ts].ndata[\"x\"].shape[0]))\n",
    "\n",
    "for ts in range(720):\n",
    "    results = trainer.model(dataset[ts].ndata[\"x\"].to(dist.device), dataset[ts].edata[\"x\"].to(dist.device), dataset[ts].to(dist.device)).detach().to('cpu').numpy()[:,0]\n",
    "    prevision_1_step[ts,:]=results\n",
    "    test = dataset[ts].ndata[\"y\"].detach().numpy()[:,0]\n",
    "    groundtruth[ts,:]=test"
   ]
  },
  {
   "cell_type": "code",
   "execution_count": null,
   "id": "179e9655",
   "metadata": {},
   "outputs": [],
   "source": [
    "np.mean(np.abs(prevision_1_step-groundtruth))"
   ]
  },
  {
   "cell_type": "code",
   "execution_count": null,
   "id": "3acbe81f",
   "metadata": {},
   "outputs": [],
   "source": [
    "np.argmax(np.abs(prevision_1_step-groundtruth))"
   ]
  },
  {
   "cell_type": "code",
   "execution_count": null,
   "id": "8c828f13",
   "metadata": {},
   "outputs": [],
   "source": [
    "np.abs(prevision_1_step-groundtruth).shape"
   ]
  },
  {
   "cell_type": "code",
   "execution_count": null,
   "id": "39182193",
   "metadata": {},
   "outputs": [],
   "source": [
    "np.unravel_index(np.abs(prevision_1_step-groundtruth).argmax(), np.abs(prevision_1_step-groundtruth).shape)"
   ]
  },
  {
   "cell_type": "code",
   "execution_count": null,
   "id": "8e56817a",
   "metadata": {},
   "outputs": [],
   "source": []
  }
 ],
 "metadata": {
  "kernelspec": {
   "display_name": "dgl-kernel",
   "language": "python",
   "name": "dgl-kernel"
  },
  "language_info": {
   "codemirror_mode": {
    "name": "ipython",
    "version": 3
   },
   "file_extension": ".py",
   "mimetype": "text/x-python",
   "name": "python",
   "nbconvert_exporter": "python",
   "pygments_lexer": "ipython3",
   "version": "3.10.6"
  }
 },
 "nbformat": 4,
 "nbformat_minor": 5
}
