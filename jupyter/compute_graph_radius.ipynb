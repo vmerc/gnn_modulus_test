{
 "cells": [
  {
   "cell_type": "code",
   "execution_count": 9,
   "id": "e964b4d6",
   "metadata": {},
   "outputs": [],
   "source": [
    "import dgl\n",
    "import torch\n",
    "import numpy as np\n",
    "import sys\n",
    "import os\n",
    "project_path = os.path.abspath(os.path.join(os.getcwd(), '..', ''))\n",
    "sys.path.append(project_path)\n",
    "# Assume you have the following:\n",
    "# graph: a DGLGraph object\n",
    "# node_coords: a tensor of shape (num_nodes, 3) representing node coordinates in 3D space (or 2D\n",
    "\n"
   ]
  },
  {
   "cell_type": "code",
   "execution_count": 10,
   "id": "3ddec57d",
   "metadata": {},
   "outputs": [
    {
     "name": "stdout",
     "output_type": "stream",
     "text": [
      "Warning: Using SerafinFile. It is recommended to compile Hermes api\n"
     ]
    }
   ],
   "source": [
    "from python.python_code.data_manip.extraction.telemac_file import TelemacFile\n",
    "from python.create_dgl_dataset import add_mesh_info\n",
    "\n",
    "#mesh_list_fine = ['/work/m24046/m24046mrcr/results_data_30min/maillage_3.slf']\n",
    "mesh_list = ['/work/m24046/m24046mrcr/results_data_30min_35_70_maillagex8/Mesh8_corrige.slf']\n",
    "res_mesh = TelemacFile(mesh_list[0])\n",
    "X,triangles = add_mesh_info(res_mesh)"
   ]
  },
  {
   "cell_type": "code",
   "execution_count": 11,
   "id": "cdeb6bfc",
   "metadata": {},
   "outputs": [],
   "source": [
    "graphs, _ = dgl.load_graphs('/work/m24046/m24046mrcr/results_data_30min_35_70_maillagex8/Multimesh_8_32.bin') "
   ]
  },
  {
   "cell_type": "code",
   "execution_count": 67,
   "id": "d8fd3a33",
   "metadata": {},
   "outputs": [],
   "source": [
    "graphs_2, _ = dgl.load_graphs('/work/m24046/m24046mrcr/results_data_30min_35_70_maillagex8/Mesh8_base.bin') "
   ]
  },
  {
   "cell_type": "code",
   "execution_count": 70,
   "id": "6ff8c55e",
   "metadata": {},
   "outputs": [],
   "source": [
    "graphs_3, _ = dgl.load_graphs('/work/m24046/m24046mrcr/results_data_30min/Multimesh_2_32_True.bin')"
   ]
  },
  {
   "cell_type": "code",
   "execution_count": 71,
   "id": "2fb358e6",
   "metadata": {},
   "outputs": [],
   "source": [
    "graph = graphs[0]\n",
    "graph_2 = graphs_2[0]\n",
    "graph_3 = graphs_3[0]"
   ]
  },
  {
   "cell_type": "code",
   "execution_count": 59,
   "id": "0b1a711b",
   "metadata": {},
   "outputs": [],
   "source": [
    "from collections import deque\n",
    "import torch\n",
    "\n",
    "def bfs_hop_distances(g, start_node):\n",
    "    \"\"\"\n",
    "    Compute the shortest hop distance from start_node to all other nodes using BFS.\n",
    "    \n",
    "    Parameters:\n",
    "        g (dgl.DGLGraph): The graph\n",
    "        start_node (int): The starting node index\n",
    "    \n",
    "    Returns:\n",
    "        distances (list): distances[i] = hop count from start_node to node i\n",
    "    \"\"\"\n",
    "    N = g.num_nodes()\n",
    "    distances = [-1] * N\n",
    "    distances[start_node] = 0\n",
    "    queue = deque([start_node])\n",
    "    \n",
    "    # Assuming undirected or properly oriented edges. If directed, consider successors/predecessors as needed\n",
    "    while queue:\n",
    "        u = queue.popleft()\n",
    "        # Get neighbors\n",
    "        for v in g.successors(u).tolist():\n",
    "            if distances[v] == -1:  # not visited\n",
    "                distances[v] = distances[u] + 1\n",
    "                queue.append(v)\n",
    "    return distances\n",
    "\n",
    "def radius_of_action_bfs(g, start_node, X, mp_nb):\n",
    "    \"\"\"\n",
    "    Efficiently compute radius of action up to mp_nb hops using BFS distances.\n",
    "    \n",
    "    Parameters:\n",
    "        g (dgl.DGLGraph): Input graph\n",
    "        start_node (int): Starting node\n",
    "        X (torch.Tensor): Node coordinates, shape (N, D)\n",
    "        mp_nb (int): Number of hops\n",
    "    \n",
    "    Returns:\n",
    "        float: The computed radius of action.\n",
    "    \"\"\"\n",
    "    distances = bfs_hop_distances(g, start_node)\n",
    "    # Filter nodes within mp_nb hops\n",
    "    within_hops = [i for i, d in enumerate(distances) if d != -1 and d <= mp_nb]\n",
    "    \n",
    "    # Compute Euclidean distances\n",
    "    start_pos = X[start_node]\n",
    "    sub_pos = X[within_hops]\n",
    "    diff = sub_pos - start_pos\n",
    "    dist = np.sqrt((diff ** 2).sum(axis=1))\n",
    "    radius = dist.max() if dist.max() > 0.0 else 0.0\n",
    "    return radius\n",
    "\n",
    "\n",
    "def radius_of_action_bfs_optimized(g, start_node, X, mp_nb):\n",
    "    # Use DGL's BFS generator to get layers\n",
    "    # This might be more efficient than a Python BFS loop.\n",
    "    frontiers = dgl.traversal.bfs_nodes_generator(g, start_node)\n",
    "    \n",
    "    visited = set()\n",
    "    layer_id = 0\n",
    "    nodes_within_hops = []\n",
    "    for frontier in frontiers:\n",
    "        nodes_in_layer = frontier.tolist()\n",
    "        visited.update(nodes_in_layer)\n",
    "        if layer_id <= mp_nb:\n",
    "            nodes_within_hops.extend(nodes_in_layer)\n",
    "        else:\n",
    "            break\n",
    "        layer_id += 1\n",
    "\n",
    "    # Compute Euclidean distances\n",
    "    start_pos = X[start_node]\n",
    "    sub_pos = X[nodes_within_hops]\n",
    "    diff = sub_pos - start_pos\n",
    "    dist = np.sqrt((diff ** 2).sum(axis=1))\n",
    "    radius = dist.max() if dist.size > 0 else 0.0\n",
    "    return radius"
   ]
  },
  {
   "cell_type": "code",
   "execution_count": 61,
   "id": "e6da50cb",
   "metadata": {},
   "outputs": [
    {
     "name": "stdout",
     "output_type": "stream",
     "text": [
      "1.4674296379089355\n",
      "Radius of action: 8068.450128287108\n",
      "0.0019783973693847656\n",
      "Radius of action: 8068.450128287108\n"
     ]
    }
   ],
   "source": [
    "import time \n",
    "# Example usage\n",
    "node_index = 1000  # Index of the node to analyze\n",
    "x_hops = 10     # Number of message-passing steps\n",
    "\n",
    "# Assuming `graph` is your DGLGraph and `node_coords` is a PyTorch tensor of node coordinates\n",
    "t1 = time.time()\n",
    "radius = radius_of_action_bfs(graph,node_index,X, x_hops)\n",
    "print(time.time()-t1)\n",
    "print(f\"Radius of action: {radius}\")\n",
    "\n",
    "t2 = time.time()\n",
    "radius = radius_of_action_bfs_optimized(graph,node_index,X, x_hops)\n",
    "print(time.time()-t2)\n",
    "print(f\"Radius of action: {radius}\")\n",
    "\n"
   ]
  },
  {
   "cell_type": "code",
   "execution_count": 64,
   "id": "fb0a617a",
   "metadata": {},
   "outputs": [],
   "source": [
    "total_radius = 0.0\n",
    "num_nodes = graph.num_nodes()\n",
    "    \n",
    "for node_index in range(num_nodes):\n",
    "        radius = radius_of_action_bfs_optimized(graph,node_index,X, x_hops)\n",
    "        total_radius += radius\n",
    "\n",
    "mean_radius = total_radius / num_nodes"
   ]
  },
  {
   "cell_type": "code",
   "execution_count": 65,
   "id": "8e4c9f8b",
   "metadata": {},
   "outputs": [
    {
     "name": "stdout",
     "output_type": "stream",
     "text": [
      "6212.558101125533\n"
     ]
    }
   ],
   "source": [
    "print(mean_radius)"
   ]
  },
  {
   "cell_type": "code",
   "execution_count": 69,
   "id": "a1191e35",
   "metadata": {},
   "outputs": [
    {
     "name": "stdout",
     "output_type": "stream",
     "text": [
      "1651.9718776244201\n"
     ]
    }
   ],
   "source": [
    "total_radius = 0.0\n",
    "num_nodes = graph.num_nodes()\n",
    "    \n",
    "for node_index in range(num_nodes):\n",
    "        radius = radius_of_action_bfs_optimized(graph_2,node_index,X, x_hops)\n",
    "        total_radius += radius\n",
    "\n",
    "mean_radius = total_radius / num_nodes\n",
    "print(mean_radius)"
   ]
  },
  {
   "cell_type": "code",
   "execution_count": 74,
   "id": "dbe00d19",
   "metadata": {},
   "outputs": [
    {
     "name": "stdout",
     "output_type": "stream",
     "text": [
      "Warning: Using SerafinFile. It is recommended to compile Hermes api\n",
      "5932.912208275073\n"
     ]
    }
   ],
   "source": [
    "mesh_list_fine = ['/work/m24046/m24046mrcr/results_data_30min/maillage_3.slf']\n",
    "res_mesh = TelemacFile(mesh_list_fine[0])\n",
    "X,triangles = add_mesh_info(res_mesh)\n",
    "total_radius = 0.0\n",
    "num_nodes = graph.num_nodes()\n",
    "    \n",
    "for node_index in range(num_nodes):\n",
    "        radius = radius_of_action_bfs_optimized(graph_3,node_index,X, x_hops)\n",
    "        total_radius += radius\n",
    "\n",
    "mean_radius = total_radius / num_nodes\n",
    "print(mean_radius)"
   ]
  },
  {
   "cell_type": "code",
   "execution_count": null,
   "id": "3e3155c4",
   "metadata": {},
   "outputs": [],
   "source": []
  }
 ],
 "metadata": {
  "kernelspec": {
   "display_name": "Python 3 (ipykernel)",
   "language": "python",
   "name": "python3"
  },
  "language_info": {
   "codemirror_mode": {
    "name": "ipython",
    "version": 3
   },
   "file_extension": ".py",
   "mimetype": "text/x-python",
   "name": "python",
   "nbconvert_exporter": "python",
   "pygments_lexer": "ipython3",
   "version": "3.10.12"
  }
 },
 "nbformat": 4,
 "nbformat_minor": 5
}
