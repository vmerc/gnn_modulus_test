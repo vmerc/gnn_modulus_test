{
 "cells": [
  {
   "cell_type": "code",
   "execution_count": 1,
   "id": "4b2fc168",
   "metadata": {},
   "outputs": [],
   "source": [
    "import os \n",
    "import sys\n",
    "project_path = os.path.abspath(os.path.join(os.getcwd(), '..', ''))\n",
    "sys.path.append(project_path)\n",
    "from python.create_dgl_dataset import TelemacDataset,create_dgl_dataset_chunked\n"
   ]
  },
  {
   "cell_type": "code",
   "execution_count": 3,
   "id": "ef1f5c81",
   "metadata": {},
   "outputs": [
    {
     "name": "stdout",
     "output_type": "stream",
     "text": [
      "Group_1_peak_1200.res\n"
     ]
    }
   ],
   "source": [
    "!ls /work/m24046/m24046mrcr/overfit_30min/"
   ]
  },
  {
   "cell_type": "code",
   "execution_count": 68,
   "id": "4b698c95",
   "metadata": {},
   "outputs": [],
   "source": [
    "ls /work/m24046/m24046mrcr/dataset_20_min/TetQ3400rapide_chunk"
   ]
  },
  {
   "cell_type": "code",
   "execution_count": 5,
   "id": "8236180e",
   "metadata": {},
   "outputs": [
    {
     "name": "stdout",
     "output_type": "stream",
     "text": [
      "Warning: Using SerafinFile. It is recommended to compile Hermes api\n",
      "Warning: Using SerafinFile. It is recommended to compile Hermes api\n"
     ]
    },
    {
     "data": {
      "text/plain": [
       "True"
      ]
     },
     "execution_count": 5,
     "metadata": {},
     "output_type": "execute_result"
    }
   ],
   "source": [
    "res_list = ['/work/m24046/m24046mrcr/overfit_30min/Group_1_peak_1200.res']\n",
    "mesh_list = ['/work/m24046/m24046mrcr/dataset_20_min/maillage_3.slf']\n",
    "cli_list = ['/work/m24046/m24046mrcr/overfit_30min/cli']\n",
    "dt_list = [1]\n",
    "\n",
    "data_folder = '/work/m24046/m24046mrcr/overfit_30min/'\n",
    "dataset_name = 'Group_1_peak_1200'\n",
    "\n",
    "create_dgl_dataset_chunked(mesh_list,res_list,cli_list,dt_list,data_folder,dataset_name, chunk_size=30)"
   ]
  },
  {
   "cell_type": "code",
   "execution_count": 6,
   "id": "6dbc56c2",
   "metadata": {},
   "outputs": [
    {
     "name": "stdout",
     "output_type": "stream",
     "text": [
      "Group_1_peak_1200.res\t       Group_1_peak_1200_0_60-80.pkl\n",
      "Group_1_peak_1200_0_0-30.pkl   Group_1_peak_1200_base.bin\n",
      "Group_1_peak_1200_0_30-60.pkl  cli\n"
     ]
    }
   ],
   "source": [
    "!ls /work/m24046/m24046mrcr/overfit_30min/"
   ]
  },
  {
   "cell_type": "code",
   "execution_count": 71,
   "id": "477def50",
   "metadata": {},
   "outputs": [],
   "source": [
    "#!mkdir /work/m24046/m24046mrcr/dataset_20_min/TetQ3400lent_chunk/"
   ]
  },
  {
   "cell_type": "code",
   "execution_count": 72,
   "id": "76f3acc0",
   "metadata": {},
   "outputs": [],
   "source": [
    "### On check que les files soient bonnent ie x+y = x+1 hors bd "
   ]
  },
  {
   "cell_type": "code",
   "execution_count": 7,
   "id": "ee67f649",
   "metadata": {},
   "outputs": [],
   "source": [
    "def test_function(files,q_mask):\n",
    "    \"\"\"\n",
    "    On check que les files soient bonnent ie x+y = x+1 hors bd \n",
    "    à tolérance près à cause du casting des float 32\n",
    "    \"\"\"\n",
    "    for file in files : \n",
    "        with open(file, 'rb') as f:\n",
    "            data = pickle.load(f)\n",
    "            for i in range(len(data)-1):\n",
    "                h_u_v,y = data[i]\n",
    "                h_u_v_2,_ = data[i+1]\n",
    "\n",
    "                avoid_boundaries = np.logical_not(q_mask)\n",
    "                test_1 = np.allclose((h_u_v+y)[avoid_boundaries,:],h_u_v_2[avoid_boundaries,:],rtol=1e-4, atol=1e-6)\n",
    "\n",
    "                assert(test_1)"
   ]
  },
  {
   "cell_type": "code",
   "execution_count": 9,
   "id": "64f2efbb",
   "metadata": {},
   "outputs": [],
   "source": [
    "import dgl"
   ]
  },
  {
   "cell_type": "code",
   "execution_count": 10,
   "id": "89cabf17",
   "metadata": {},
   "outputs": [],
   "source": [
    "base_graph = dgl.load_graphs('/work/m24046/m24046mrcr/overfit_30min/Group_1_peak_1200_base.bin')[0]"
   ]
  },
  {
   "cell_type": "code",
   "execution_count": 11,
   "id": "a98e5b8b",
   "metadata": {},
   "outputs": [],
   "source": [
    "node_types = base_graph[0].ndata['static'][:,0:4].numpy()\n",
    "q_mask = (node_types == [0, 0, 1, 0]).all(axis=1)"
   ]
  },
  {
   "cell_type": "code",
   "execution_count": 12,
   "id": "062ee4e7",
   "metadata": {},
   "outputs": [],
   "source": [
    "import pickle\n",
    "import numpy as np\n",
    "files = ['/work/m24046/m24046mrcr/overfit_30min/Group_1_peak_1200_0_0-30.pkl',\n",
    "         '/work/m24046/m24046mrcr/overfit_30min/Group_1_peak_1200_0_30-60.pkl',\n",
    "         '/work/m24046/m24046mrcr/overfit_30min/Group_1_peak_1200_0_60-80.pkl',\n",
    "        \n",
    "        ]\n",
    "test_function(files,q_mask)"
   ]
  },
  {
   "cell_type": "code",
   "execution_count": 14,
   "id": "eab720d2",
   "metadata": {},
   "outputs": [
    {
     "name": "stdout",
     "output_type": "stream",
     "text": [
      "New pickle file saved as /work/m24046/m24046mrcr/overfit_30min/Group_1_peak_1200_0_0-80.pkl\n"
     ]
    }
   ],
   "source": [
    "pickle_files = [\n",
    "         '/work/m24046/m24046mrcr/overfit_30min/Group_1_peak_1200_0_0-30.pkl',\n",
    "         '/work/m24046/m24046mrcr/overfit_30min/Group_1_peak_1200_0_30-60.pkl',\n",
    "         '/work/m24046/m24046mrcr/overfit_30min/Group_1_peak_1200_0_60-80.pkl',\n",
    "        ]\n",
    "\n",
    "# Load and concatenate the lists from each pickle file\n",
    "combined_list = []\n",
    "for file in pickle_files:\n",
    "    with open(file, 'rb') as f:\n",
    "        data = pickle.load(f)\n",
    "        combined_list.extend(data)\n",
    "        \n",
    "# Save the new data to a new pickle file\n",
    "new_pickle_file = '/work/m24046/m24046mrcr/overfit_30min/Group_1_peak_1200_0_0-80.pkl'\n",
    "with open(new_pickle_file, 'wb') as f:\n",
    "    pickle.dump(combined_list, f)\n",
    "\n",
    "print(f\"New pickle file saved as {new_pickle_file}\")\n"
   ]
  },
  {
   "cell_type": "code",
   "execution_count": 15,
   "id": "b8960be0",
   "metadata": {},
   "outputs": [],
   "source": [
    "test_function(['/work/m24046/m24046mrcr/overfit_30min/Group_1_peak_1200_0_0-80.pkl'],q_mask)"
   ]
  },
  {
   "cell_type": "code",
   "execution_count": 16,
   "id": "c14ee71d",
   "metadata": {},
   "outputs": [],
   "source": [
    "from python.create_dgl_dataset import TelemacDataset\n",
    "from hydra.utils import to_absolute_path"
   ]
  },
  {
   "cell_type": "code",
   "execution_count": 17,
   "id": "27fb3b81",
   "metadata": {},
   "outputs": [],
   "source": [
    "data_dir = '/work/m24046/m24046mrcr/TetQ2500inter_1min_chunk/multimesh_2_32.bin'\n",
    "dynamic_dir = '/work/m24046/m24046mrcr/overfit_30min/Group_1_peak_1200_0_0-80.pkl'\n",
    "\n",
    "batch_size = 1\n",
    "epochs = 3000\n",
    "num_training_samples = 1\n",
    "num_training_time_steps = 80\n",
    "timestep = 1\n",
    "starting_ts = 0\n",
    "\n",
    "ckpt_path = '/work/m24046/m24046mrcr/dataset_20_min/test_create_dataset_jupyter'"
   ]
  },
  {
   "cell_type": "code",
   "execution_count": 21,
   "id": "dcbe9e70",
   "metadata": {},
   "outputs": [],
   "source": [
    "dataset =  TelemacDataset(\n",
    "            name=\"telemac_test\",\n",
    "            data_dir=to_absolute_path(data_dir),\n",
    "            dynamic_data_files= [to_absolute_path(dynamic_dir)],\n",
    "            split=\"train\",\n",
    "            ckpt_path=ckpt_path,\n",
    "            normalize=False\n",
    "        )"
   ]
  },
  {
   "cell_type": "code",
   "execution_count": 22,
   "id": "5d4e81ee",
   "metadata": {},
   "outputs": [
    {
     "name": "stdout",
     "output_type": "stream",
     "text": [
      "edge_stats.json  node_stats.json\n"
     ]
    }
   ],
   "source": [
    "!ls /work/m24046/m24046mrcr/dataset_20_min/test_create_dataset_jupyter"
   ]
  },
  {
   "cell_type": "code",
   "execution_count": 23,
   "id": "daf41a01",
   "metadata": {},
   "outputs": [
    {
     "name": "stdout",
     "output_type": "stream",
     "text": [
      "[Graph(num_nodes=412844, num_edges=2464330,\n",
      "      ndata_schemes={'x': Scheme(shape=(9,), dtype=torch.float32), 'y': Scheme(shape=(3,), dtype=torch.float32)}\n",
      "      edata_schemes={'x': Scheme(shape=(3,), dtype=torch.float32)})]\n"
     ]
    }
   ],
   "source": [
    "print(dataset[0])"
   ]
  },
  {
   "cell_type": "code",
   "execution_count": 25,
   "id": "2e582893",
   "metadata": {},
   "outputs": [],
   "source": [
    "for i in range(len(dataset)-1):\n",
    "    avoid_boundaries = np.logical_not(q_mask)\n",
    "    graph = dataset[i][0]\n",
    "    graph_2 = dataset[i+1][0]\n",
    "    #print(dataset[i].ndata['x'][q_mask,6:9].shape)\n",
    "    h_u_v = graph.ndata['x'][avoid_boundaries,6:9]\n",
    "    y = graph.ndata['y'][avoid_boundaries,:]\n",
    "    h_u_v_2 = graph_2.ndata['x'][avoid_boundaries,6:9]\n",
    "    #print(h_u_v+y)\n",
    "    #print(h_u_v_2)\n",
    "    test_1 = np.allclose(h_u_v+y,h_u_v_2,rtol=1e-4, atol=1e-6)\n",
    "    #print(test_1)\n",
    "    assert(test_1)\n",
    "    "
   ]
  },
  {
   "cell_type": "code",
   "execution_count": 26,
   "id": "4b74e81f",
   "metadata": {},
   "outputs": [],
   "source": [
    "import importlib\n",
    "# Reload the module\n",
    "importlib.reload(importlib.import_module('python.create_dgl_dataset'))\n",
    "\n",
    "# You may need to re-import the specific classes or functions after reloading\n",
    "from python.create_dgl_dataset import TelemacDataset, create_dgl_dataset_chunked"
   ]
  },
  {
   "cell_type": "code",
   "execution_count": 27,
   "id": "2c29eb22",
   "metadata": {},
   "outputs": [],
   "source": [
    "### On test avec le normalize et la denormalization"
   ]
  },
  {
   "cell_type": "code",
   "execution_count": 28,
   "id": "b12f2939",
   "metadata": {},
   "outputs": [
    {
     "name": "stdout",
     "output_type": "stream",
     "text": [
      "Normalizing data...\n"
     ]
    }
   ],
   "source": [
    "dataset_norm =  TelemacDataset(\n",
    "            name=\"telemac_test\",\n",
    "            data_dir=to_absolute_path(data_dir),\n",
    "            dynamic_data_files= [to_absolute_path(dynamic_dir)],\n",
    "            split=\"train\",\n",
    "            ckpt_path=ckpt_path,\n",
    "            normalize=True\n",
    "        )"
   ]
  },
  {
   "cell_type": "code",
   "execution_count": 29,
   "id": "394b33e4",
   "metadata": {},
   "outputs": [],
   "source": [
    "node_stats = dataset_norm.node_stats\n",
    "\n",
    "h_u_v_i_0_mean = np.array([node_stats['h'].item(),node_stats['u'].item(),node_stats['v'].item()])\n",
    "h_u_v_i_0_std = np.array([node_stats['h_std'].item(),node_stats['u_std'].item(),node_stats['v_std'].item()])\n",
    "\n",
    "delta_h_u_v_i_diff_mean = np.array([node_stats['delta_h'].item(),node_stats['delta_u'].item(),node_stats['delta_v'].item()])\n",
    "delta_h_u_v_i_diff_std = np.array([node_stats['delta_h_std'].item(),node_stats['delta_u_std'].item(),node_stats['delta_v_std'].item()])\n",
    "\n",
    "def _denormalize_data(tensor,mean,std):\n",
    "    assert(tensor.shape[1]==mean.shape[0])\n",
    "    assert(tensor.shape[1]==std.shape[0])\n",
    "    return tensor*std + mean \n",
    "    \n",
    "def _normalize_data(tensor,mean,std):\n",
    "    assert(tensor.shape[1]==mean.shape[0])\n",
    "    assert(tensor.shape[1]==std.shape[0])\n",
    "    return (tensor-mean)/std"
   ]
  },
  {
   "cell_type": "code",
   "execution_count": 32,
   "id": "3efb9a78",
   "metadata": {},
   "outputs": [],
   "source": [
    "avoid_boundaries = np.logical_not(q_mask)\n",
    "for i in range(len(dataset)):\n",
    "    graph = dataset[i][0]\n",
    "    graph_norm = dataset_norm[i][0]\n",
    "    test_non_norm = graph.ndata['x'][avoid_boundaries,6:9]\n",
    "    test_norm = _denormalize_data(graph_norm.ndata['x'][avoid_boundaries,6:9],h_u_v_i_0_mean,h_u_v_i_0_std)\n",
    "\n",
    "\n",
    "    test_1 = np.allclose(test_non_norm,test_norm,rtol=1e-4, atol=1e-6)\n",
    "\n",
    "    assert(test_1)\n",
    "    \n"
   ]
  },
  {
   "cell_type": "code",
   "execution_count": 33,
   "id": "b9ee7ce9",
   "metadata": {},
   "outputs": [],
   "source": [
    "avoid_boundaries = np.logical_not(q_mask)\n",
    "for i in range(len(dataset)):\n",
    "    graph = dataset[i][0]\n",
    "    graph_norm = dataset_norm[i][0]\n",
    "    test_non_norm = graph.ndata['y'][avoid_boundaries,0:3]\n",
    "    test_norm = _denormalize_data(graph_norm.ndata['y'][avoid_boundaries,0:3],delta_h_u_v_i_diff_mean,delta_h_u_v_i_diff_std)\n",
    "\n",
    "\n",
    "    test_1 = np.allclose(test_non_norm,test_norm,rtol=1e-4, atol=1e-6)\n",
    "\n",
    "    assert(test_1)"
   ]
  },
  {
   "cell_type": "code",
   "execution_count": 35,
   "id": "2b1cb024",
   "metadata": {},
   "outputs": [],
   "source": [
    "for i in range(len(dataset)-1):\n",
    "    graph_norm = dataset_norm[i][0]\n",
    "    graph_norm_2 = dataset_norm[i+1][0]\n",
    "    \n",
    "    avoid_boundaries = np.logical_not(q_mask)\n",
    "    huv_0 = _denormalize_data(graph_norm.ndata['x'][avoid_boundaries,6:9],h_u_v_i_0_mean,h_u_v_i_0_std)\n",
    "    delta = _denormalize_data(graph_norm.ndata['y'][avoid_boundaries,0:3],delta_h_u_v_i_diff_mean,delta_h_u_v_i_diff_std)\n",
    "\n",
    "    huv_1 = _denormalize_data(graph_norm_2.ndata['x'][avoid_boundaries,6:9],h_u_v_i_0_mean,h_u_v_i_0_std)\n",
    "\n",
    "    test_1 = np.allclose(huv_0+delta,huv_1,rtol=1e-4, atol=1e-6)\n",
    "    assert(test_1)"
   ]
  },
  {
   "cell_type": "code",
   "execution_count": 95,
   "id": "8f8f5d8c",
   "metadata": {},
   "outputs": [],
   "source": [
    "from dgl.dataloading import GraphDataLoader\n",
    "\n",
    "# instantiate dataloader\n",
    "dataloader = GraphDataLoader(\n",
    "            dataset_norm,\n",
    "            batch_size=1,  \n",
    "            shuffle=False,\n",
    "            drop_last=False,\n",
    "        )\n",
    "\n",
    "for i in range(len(dataloader)-1):\n",
    "    main_dataloader = iter(dataloader)\n",
    "    for _ in range(i):\n",
    "        next(main_dataloader)\n",
    "    graph_1 = next(main_dataloader)\n",
    "    graph_2 = next(main_dataloader)\n",
    "\n",
    "    avoid_boundaries = np.logical_not(q_mask)\n",
    "    huv_0 = _denormalize_data(graph_1.ndata['x'][avoid_boundaries,6:9],h_u_v_i_0_mean,h_u_v_i_0_std)\n",
    "\n",
    "    delta = _denormalize_data(graph_1.ndata['y'][avoid_boundaries,0:3],delta_h_u_v_i_diff_mean,delta_h_u_v_i_diff_std)\n",
    "    huv_1 = _denormalize_data(graph_2.ndata['x'][avoid_boundaries,6:9],h_u_v_i_0_mean,h_u_v_i_0_std)\n",
    "\n",
    "    test_1 = np.allclose(huv_0+delta,huv_1,rtol=1e-4, atol=1e-6)\n",
    "    assert(test_1)\n"
   ]
  },
  {
   "cell_type": "code",
   "execution_count": 96,
   "id": "74602ab4",
   "metadata": {},
   "outputs": [],
   "source": [
    "from dgl.dataloading import GraphDataLoader\n",
    "\n",
    "# instantiate dataloader\n",
    "dataloader = GraphDataLoader(\n",
    "            dataset_norm,\n",
    "            batch_size=1,  \n",
    "            shuffle=False,\n",
    "            drop_last=False,\n",
    "        )\n",
    "main_dataloader = iter(dataloader)\n",
    "for i in range(len(main_dataloader)-1):\n",
    "    # Reset the dataloader to fetch only the graphs needed in the j loop\n",
    "    current_graphs_loader = GraphDataLoader(\n",
    "                dataset_norm,\n",
    "                batch_size=1,  \n",
    "                shuffle=False,\n",
    "                drop_last=False,\n",
    "            )\n",
    "    current_dataloader_iter = iter(current_graphs_loader)\n",
    "    # Advance to the i-th graph in the current_dataloader_iter\n",
    "    for j in range(i+1):\n",
    "        next(current_dataloader_iter)\n",
    "                \n",
    "    graph = next(main_dataloader)\n",
    "    next_graph = next(current_dataloader_iter)\n",
    "    \n",
    "    \n",
    "    \n",
    "    avoid_boundaries = np.logical_not(q_mask)\n",
    "    huv_0 = _denormalize_data(graph.ndata['x'][avoid_boundaries,6:9],h_u_v_i_0_mean,h_u_v_i_0_std)\n",
    "    delta = _denormalize_data(graph.ndata['y'][avoid_boundaries,0:3],delta_h_u_v_i_diff_mean,delta_h_u_v_i_diff_std)\n",
    "    huv_1 = _denormalize_data(next_graph.ndata['x'][avoid_boundaries,6:9],h_u_v_i_0_mean,h_u_v_i_0_std)\n",
    "    \n",
    "    test_1 = np.allclose(huv_0+delta,huv_1,rtol=1e-4, atol=1e-6)\n",
    "    assert(test_1)"
   ]
  },
  {
   "cell_type": "code",
   "execution_count": 112,
   "id": "05139d8b",
   "metadata": {},
   "outputs": [
    {
     "name": "stdout",
     "output_type": "stream",
     "text": [
      "dataset_content.txt  main_dataset.pkl\n"
     ]
    }
   ],
   "source": [
    "!ls /work/m24046/m24046mrcr/dataset_20_min/main_dataset"
   ]
  },
  {
   "cell_type": "code",
   "execution_count": 100,
   "id": "896efa6e",
   "metadata": {},
   "outputs": [
    {
     "name": "stdout",
     "output_type": "stream",
     "text": [
      "New pickle file saved as /work/m24046/m24046mrcr/dataset_20_min/main_dataset/main_dataset.pkl\n"
     ]
    }
   ],
   "source": [
    "import pickle\n",
    "pickle_files = [\n",
    "         '/work/m24046/m24046mrcr/dataset_20_min/TetQ2500inter_chunk/TetQ2500inter_0_30-105.pkl',\n",
    "         '/work/m24046/m24046mrcr/dataset_20_min/TetQ3400inter_chunk/TetQ3400inter_0_30-105.pkl',\n",
    "         '/work/m24046/m24046mrcr/dataset_20_min/TetQ1500lent_chunk/TetQ1500lent_0_30-105.pkl',\n",
    "         '/work/m24046/m24046mrcr/dataset_20_min/TetQ2500lent_chunk/TetQ2500lent_0_30-105.pkl',\n",
    "         '/work/m24046/m24046mrcr/dataset_20_min/TetQ3400lent_chunk/TetQ3400lent_0_30-105.pkl',\n",
    "         '/work/m24046/m24046mrcr/dataset_20_min/TetQ1500rapide_chunk/TetQ1500rapide_0_30-105.pkl',\n",
    "         '/work/m24046/m24046mrcr/dataset_20_min/TetQ3400rapide_chunk/TetQ3400rapide_0_30-105.pkl',\n",
    "        ]\n",
    "\n",
    "# Load and concatenate the lists from each pickle file\n",
    "combined_list = []\n",
    "for file in pickle_files:\n",
    "    with open(file, 'rb') as f:\n",
    "        data = pickle.load(f)\n",
    "        combined_list.extend(data)\n",
    "        \n",
    "# Save the new data to a new pickle file\n",
    "new_pickle_file = '/work/m24046/m24046mrcr/dataset_20_min/main_dataset/main_dataset.pkl'\n",
    "with open(new_pickle_file, 'wb') as f:\n",
    "    pickle.dump(combined_list, f)\n",
    "\n",
    "print(f\"New pickle file saved as {new_pickle_file}\")"
   ]
  },
  {
   "cell_type": "code",
   "execution_count": 101,
   "id": "588383d5",
   "metadata": {},
   "outputs": [
    {
     "name": "stdout",
     "output_type": "stream",
     "text": [
      "total 4.9G\n",
      "-rw------- 1 m24046mrcr m24046 4.9G Sep 18 17:48 main_dataset.pkl\n"
     ]
    }
   ],
   "source": [
    "!ls -lh /work/m24046/m24046mrcr/dataset_20_min/main_dataset/"
   ]
  },
  {
   "cell_type": "code",
   "execution_count": 109,
   "id": "034fdf08",
   "metadata": {},
   "outputs": [],
   "source": [
    "# Write the list to a .txt file\n",
    "with open('/work/m24046/m24046mrcr/dataset_20_min/main_dataset/dataset_content.txt', 'w') as f:\n",
    "    for item in pickle_files:\n",
    "        f.write(\"%s\\n\" % item)\n"
   ]
  },
  {
   "cell_type": "code",
   "execution_count": 113,
   "id": "fdca90b8",
   "metadata": {},
   "outputs": [
    {
     "name": "stdout",
     "output_type": "stream",
     "text": [
      "/work/m24046/m24046mrcr/dataset_20_min/TetQ2500inter_chunk/TetQ2500inter_0_30-10\n",
      "5.pkl\n",
      "/work/m24046/m24046mrcr/dataset_20_min/TetQ3400inter_chunk/TetQ3400inter_0_30-10\n",
      "5.pkl\n",
      "/work/m24046/m24046mrcr/dataset_20_min/TetQ1500lent_chunk/TetQ1500lent_0_30-105.\n",
      "pkl\n",
      "/work/m24046/m24046mrcr/dataset_20_min/TetQ2500lent_chunk/TetQ2500lent_0_30-105.\n",
      "pkl\n",
      "/work/m24046/m24046mrcr/dataset_20_min/TetQ3400lent_chunk/TetQ3400lent_0_30-105.\n",
      "pkl\n",
      "/work/m24046/m24046mrcr/dataset_20_min/TetQ1500rapide_chunk/TetQ1500rapide_0_30-\n",
      "105.pkl\n",
      "/work/m24046/m24046mrcr/dataset_20_min/TetQ3400rapide_chunk/TetQ3400rapide_0_30-\n",
      "105.pkl\n"
     ]
    }
   ],
   "source": [
    "!more /work/m24046/m24046mrcr/dataset_20_min/main_dataset/dataset_content.txt"
   ]
  },
  {
   "cell_type": "code",
   "execution_count": 119,
   "id": "9895a6b0",
   "metadata": {},
   "outputs": [
    {
     "name": "stdout",
     "output_type": "stream",
     "text": [
      "TetQ2500inter_1min_chunk  TetQ2500inter_1min_multimesh_base.bin  dataset_20_min\n"
     ]
    }
   ],
   "source": [
    "!ls /work/m24046/m24046mrcr/"
   ]
  },
  {
   "cell_type": "code",
   "execution_count": null,
   "id": "3966c4b8",
   "metadata": {},
   "outputs": [],
   "source": []
  }
 ],
 "metadata": {
  "kernelspec": {
   "display_name": "Python 3 (ipykernel)",
   "language": "python",
   "name": "python3"
  },
  "language_info": {
   "codemirror_mode": {
    "name": "ipython",
    "version": 3
   },
   "file_extension": ".py",
   "mimetype": "text/x-python",
   "name": "python",
   "nbconvert_exporter": "python",
   "pygments_lexer": "ipython3",
   "version": "3.10.12"
  }
 },
 "nbformat": 4,
 "nbformat_minor": 5
}
